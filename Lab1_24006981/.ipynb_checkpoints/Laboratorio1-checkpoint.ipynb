{
 "cells": [
  {
   "cell_type": "markdown",
   "id": "a9888025-45e2-4831-a60d-bc5ba9880572",
   "metadata": {
    "jp-MarkdownHeadingCollapsed": true,
    "tags": []
   },
   "source": [
    "# Problema 1"
   ]
  },
  {
   "cell_type": "code",
   "execution_count": 25,
   "id": "e5729e94-d1b5-43ff-bbc3-0db3d6aae095",
   "metadata": {
    "tags": []
   },
   "outputs": [
    {
     "data": {
      "text/plain": [
       "True"
      ]
     },
     "execution_count": 25,
     "metadata": {},
     "output_type": "execute_result"
    }
   ],
   "source": [
    "import cv2\n",
    "import numpy as np\n",
    "\n",
    "def modificar_imagen(ruta_imagen, color):\n",
    "    # Leer la imagen\n",
    "    imagen = cv2.imread(ruta_imagen)\n",
    "    \n",
    "    # Dividir la imagen en canales Azul, Verde y Rojo\n",
    "    B, G, R = cv2.split(imagen)\n",
    "    \n",
    "    # Crear canales en blanco\n",
    "    blanco = np.zeros_like(B)\n",
    "    \n",
    "    if color == 1:\n",
    "        # Solo el canal Azul activo\n",
    "        imagen_modificada = cv2.merge([B, blanco, blanco])\n",
    "    elif color == 2:\n",
    "        # Solo el canal Verde activo\n",
    "        imagen_modificada = cv2.merge([blanco, G, blanco])\n",
    "    elif color == 3:\n",
    "        # Solo el canal Rojo activo\n",
    "        imagen_modificada = cv2.merge([blanco, blanco, R])\n",
    "    elif color == 10:\n",
    "        # Canales Rojo y Verde activos\n",
    "        imagen_modificada = cv2.merge([blanco, G, R])\n",
    "    elif color == 20:\n",
    "        # Canales Verde y Azul activos\n",
    "        imagen_modificada = cv2.merge([B, G, blanco])\n",
    "    elif color == 30:\n",
    "        # Canales Azul y Rojo activos\n",
    "        imagen_modificada = cv2.merge([B, blanco, R])\n",
    "    else:\n",
    "        # Si el parámetro color no es reconocido, devolver la imagen original\n",
    "        imagen_modificada = imagen\n",
    "    \n",
    "    return imagen_modificada\n",
    "\n",
    "# Ejemplo de uso\n",
    "imagen_modificada = modificar_imagen('img/img3.jpeg', 30)\n",
    "cv2.imwrite('imagen_modificada_img30.jpg', imagen_modificada)\n"
   ]
  },
  {
   "cell_type": "markdown",
   "id": "4df8baa1-0bbf-4738-b3e7-59fe9def9182",
   "metadata": {
    "jp-MarkdownHeadingCollapsed": true,
    "tags": []
   },
   "source": [
    "# Problema 2"
   ]
  },
  {
   "cell_type": "code",
   "execution_count": 29,
   "id": "7829b9c9-fe14-45ea-8e36-c62964ab3854",
   "metadata": {
    "tags": []
   },
   "outputs": [],
   "source": [
    "def reconstruir_imagen_color(carpeta, output_path):\n",
    "    # Construir las rutas de los archivos\n",
    "    azul_path = f'{carpeta}/{carpeta}_salida_gray_azul.jpg'\n",
    "    rojo_path = f'{carpeta}/{carpeta}_salida_gray_rojo.jpg'\n",
    "    verde_path = f'{carpeta}/{carpeta}_salida_gray_verde.jpg'\n",
    "    \n",
    "    # Leer las imágenes en escala de grises\n",
    "    azul = cv2.imread(azul_path, cv2.IMREAD_GRAYSCALE)\n",
    "    rojo = cv2.imread(rojo_path, cv2.IMREAD_GRAYSCALE)\n",
    "    verde = cv2.imread(verde_path, cv2.IMREAD_GRAYSCALE)\n",
    "    \n",
    "    # Verificar que las imágenes tienen el mismo tamaño\n",
    "    if azul.shape != rojo.shape or azul.shape != verde.shape:\n",
    "        raise ValueError(\"Las imágenes no tienen el mismo tamaño.\")\n",
    "    \n",
    "    # Combinar las imágenes en una imagen a color\n",
    "    imagen_color = cv2.merge([azul, verde, rojo])\n",
    "    \n",
    "    # Guardar la imagen resultante\n",
    "    cv2.imwrite(output_path, imagen_color)\n",
    "\n",
    "# Ejemplo de uso\n",
    "reconstruir_imagen_color('imagen1', 'imagen1_color.jpg')\n",
    "reconstruir_imagen_color('imagen2', 'imagen2_color.jpg')\n",
    "reconstruir_imagen_color('perro', 'perro1_color.jpg')\n"
   ]
  },
  {
   "cell_type": "markdown",
   "id": "d667a86f-c9fb-4ddc-9961-2677d348237b",
   "metadata": {
    "jp-MarkdownHeadingCollapsed": true,
    "tags": []
   },
   "source": [
    "# Problema 3"
   ]
  },
  {
   "cell_type": "code",
   "execution_count": 45,
   "id": "62836fda-0f61-40bd-9a2c-e559d62f420b",
   "metadata": {
    "tags": []
   },
   "outputs": [],
   "source": [
    "import os\n",
    "\n",
    "def crear_escala_grises_3d(ruta_imagen, carpeta_salida):\n",
    "    # Crear la carpeta de salida si no existe\n",
    "    if not os.path.exists(carpeta_salida):\n",
    "        os.makedirs(carpeta_salida)\n",
    "    \n",
    "    # Leer la imagen a color\n",
    "    imagen = cv2.imread(ruta_imagen)\n",
    "    \n",
    "    # Dividir la imagen en canales Azul, Verde y Rojo\n",
    "    B, G, R = cv2.split(imagen)\n",
    "    \n",
    "    # Guardar cada canal como una imagen en escala de grises\n",
    "    cv2.imwrite(os.path.join(carpeta_salida, 'salida_gray_azul.jpg'), B)\n",
    "    cv2.imwrite(os.path.join(carpeta_salida, 'salida_gray_verde.jpg'), G)\n",
    "    cv2.imwrite(os.path.join(carpeta_salida, 'salida_gray_rojo.jpg'), R)\n",
    "\n",
    "# Ejemplo de uso\n",
    "crear_escala_grises_3d('img/img2.jpeg', 'img2')\n"
   ]
  },
  {
   "cell_type": "markdown",
   "id": "92fcfec6-606c-4960-a4dd-66cb1aa04933",
   "metadata": {},
   "source": [
    "# Problema 4"
   ]
  },
  {
   "cell_type": "code",
   "execution_count": 57,
   "id": "686e79c5-a19e-4c20-a43e-6fcd148126d3",
   "metadata": {
    "tags": []
   },
   "outputs": [
    {
     "data": {
      "text/plain": [
       "True"
      ]
     },
     "execution_count": 57,
     "metadata": {},
     "output_type": "execute_result"
    }
   ],
   "source": [
    "import matplotlib.pyplot as plt\n",
    "\n",
    "def mostrar_histogramas(ruta_imagen):\n",
    "    # Leer la imagen\n",
    "    imagen = cv2.imread(ruta_imagen)\n",
    "    \n",
    "    # Dividir la imagen en canales Azul, Verde y Rojo\n",
    "    B, G, R = cv2.split(imagen)\n",
    "    \n",
    "    # Crear una imagen en escala de grises usando el promedio aritmético\n",
    "    gris = (B.astype(np.float32) + G.astype(np.float32) + R.astype(np.float32)) / 3\n",
    "    gris = gris.astype(np.uint8)\n",
    "    \n",
    "    # Calcular los histogramas\n",
    "    hist_B = cv2.calcHist([B], [0], None, [256], [0, 256])\n",
    "    hist_G = cv2.calcHist([G], [0], None, [256], [0, 256])\n",
    "    hist_R = cv2.calcHist([R], [0], None, [256], [0, 256])\n",
    "    hist_gris = np.histogram(gris, bins=256, range=(0, 256))[0]\n",
    "\n",
    "    # Calcular las medias\n",
    "    media_B = np.mean(B)\n",
    "    media_G = np.mean(G)\n",
    "    media_R = np.mean(R)\n",
    "    media_gris = np.mean(gris)\n",
    "    \n",
    "    # Crear las gráficas de los histogramas\n",
    "    fig, axs = plt.subplots(4, 1, figsize=(10, 15))\n",
    "\n",
    "    # Histograma canal Azul\n",
    "    axs[0].plot(hist_B, color='blue')\n",
    "    axs[0].axvline(media_B, color='black', linestyle='dashed', linewidth=1)\n",
    "    axs[0].set_title('Histograma - Canal Azul')\n",
    "\n",
    "    # Histograma canal Verde\n",
    "    axs[1].plot(hist_G, color='green')\n",
    "    axs[1].axvline(media_G, color='black', linestyle='dashed', linewidth=1)\n",
    "    axs[1].set_title('Histograma - Canal Verde')\n",
    "\n",
    "    # Histograma canal Rojo\n",
    "    axs[2].plot(hist_R, color='red')\n",
    "    axs[2].axvline(media_R, color='black', linestyle='dashed', linewidth=1)\n",
    "    axs[2].set_title('Histograma - Canal Rojo')\n",
    "\n",
    "    # Histograma escala de grises\n",
    "    axs[3].plot(hist_gris, color='gray')\n",
    "    axs[3].axvline(media_gris, color='black', linestyle='dashed', linewidth=1)\n",
    "    axs[3].set_title('Histograma - Escala de Grises')\n",
    "    \n",
    "    # Mostrar las gráficas\n",
    "    plt.tight_layout()\n",
    "    plt.show()\n",
    "\n",
    "# Ejemplo de uso\n",
    "mostrar_histogramas('img/img3.jpeg')\n",
    "_gris_ponderada.jpg"
   ]
  },
  {
   "cell_type": "markdown",
   "id": "8b34ae8f-bd37-4ef3-8792-05490d6354f9",
   "metadata": {},
   "source": [
    "# Problema 5"
   ]
  },
  {
   "cell_type": "markdown",
   "id": "bef23793-9e33-47d4-8850-a40b020d2179",
   "metadata": {},
   "source": [
    "El enfoque de escala de grises ponderado es una técnica que convierte una imagen a color en una imagen en escala de grises utilizando un conjunto de coeficientes de ponderación para cada uno de los canales de color (Rojo, Verde y Azul). La idea detrás de esta técnica es que los diferentes colores no contribuyen de manera igual a la percepción de la luminosidad en una imagen. En el enfoque ponderado, se utilizan coeficientes específicos para cada canal para reflejar mejor cómo el ojo humano percibe la luminosidad.\n",
    "\n",
    "Una fórmula comúnmente utilizada para el enfoque ponderado es:\n",
    "\n",
    "\\[ \\text{Gris} = 0.299 \\times R + 0.587 \\times G + 0.114 \\times B \\]\n",
    "\n",
    "Estos coeficientes se derivan de estudios sobre la percepción humana de los colores.\n"
   ]
  },
  {
   "cell_type": "code",
   "execution_count": null,
   "id": "182b1190-9262-4033-8883-2d62ba1b44f3",
   "metadata": {},
   "outputs": [],
   "source": [
    "def convertir_a_gris_ponderado(ruta_imagen):\n",
    "    # Leer la imagen a color\n",
    "    imagen = cv2.imread(ruta_imagen)\n",
    "    \n",
    "    # Dividir la imagen en canales Azul, Verde y Rojo\n",
    "    B, G, R = cv2.split(imagen)\n",
    "    \n",
    "    # Calcular la imagen en escala de grises ponderada\n",
    "    gris_ponderado = 0.114 * B + 0.587 * G + 0.299 * R\n",
    "    gris_ponderado = gris_ponderado.astype(np.uint8)\n",
    "    \n",
    "    return gris_ponderado\n",
    "\n",
    "def mostrar_histogramas(ruta_imagen):\n",
    "    # Leer la imagen\n",
    "    imagen = cv2.imread(ruta_imagen)\n",
    "    \n",
    "    # Dividir la imagen en canales Azul, Verde y Rojo\n",
    "    B, G, R = cv2.split(imagen)\n",
    "    \n",
    "    # Crear una imagen en escala de grises usando el promedio aritmético\n",
    "    gris_promedio = (B.astype(np.float32) + G.astype(np.float32) + R.astype(np.float32)) / 3\n",
    "    gris_promedio = gris_promedio.astype(np.uint8)\n",
    "    \n",
    "    # Crear una imagen en escala de grises ponderada\n",
    "    gris_ponderado = convertir_a_gris_ponderado(ruta_imagen)\n",
    "    \n",
    "    # Calcular los histogramas\n",
    "    hist_B = cv2.calcHist([B], [0], None, [256], [0, 256])\n",
    "    hist_G = cv2.calcHist([G], [0], None, [256], [0, 256])\n",
    "    hist_R = cv2.calcHist([R], [0], None, [256], [0, 256])\n",
    "    hist_gris_promedio = np.histogram(gris_promedio, bins=256, range=(0, 256))[0]\n",
    "    hist_gris_ponderado = np.histogram(gris_ponderado, bins=256, range=(0, 256))[0]\n",
    "\n",
    "    # Calcular las medias\n",
    "    media_B = np.mean(B)\n",
    "    media_G = np.mean(G)\n",
    "    media_R = np.mean(R)\n",
    "    media_gris_promedio = np.mean(gris_promedio)\n",
    "    media_gris_ponderado = np.mean(gris_ponderado)\n",
    "    \n",
    "    # Crear las gráficas de los histogramas\n",
    "    fig, axs = plt.subplots(5, 1, figsize=(10, 18))\n",
    "\n",
    "    # Histograma canal Azul\n",
    "    axs[0].plot(hist_B, color='blue')\n",
    "    axs[0].axvline(media_B, color='black', linestyle='dashed', linewidth=1)\n",
    "    axs[0].set_title('Histograma - Canal Azul')\n",
    "\n",
    "    # Histograma canal Verde\n",
    "    axs[1].plot(hist_G, color='green')\n",
    "    axs[1].axvline(media_G, color='black', linestyle='dashed', linewidth=1)\n",
    "    axs[1].set_title('Histograma - Canal Verde')\n",
    "\n",
    "    # Histograma canal Rojo\n",
    "    axs[2].plot(hist_R, color='red')\n",
    "    axs[2].axvline(media_R, color='black', linestyle='dashed', linewidth=1)\n",
    "    axs[2].set_title('Histograma - Canal Rojo')\n",
    "\n",
    "    # Histograma escala de grises promedio\n",
    "    axs[3].plot(hist_gris_promedio, color='gray')\n",
    "    axs[3].axvline(media_gris_promedio, color='black', linestyle='dashed', linewidth=1)\n",
    "    axs[3].set_title('Histograma - Escala de Grises (Promedio)')\n",
    "\n",
    "    # Histograma escala de grises ponderado\n",
    "    axs[4].plot(hist_gris_ponderado, color='gray')\n",
    "    axs[4].axvline(media_gris_ponderado, color='black', linestyle='dashed', linewidth=1)\n",
    "    axs[4].set_title('Histograma - Escala de Grises (Ponderado)')\n",
    "    \n",
    "    # Mostrar las gráficas\n",
    "    plt.tight_layout()\n",
    "    plt.show()\n",
    "\n",
    "# Ejemplo de uso\n",
    "mostrar_histogramas('ruta_a_tu_imagen.jpg')\n"
   ]
  },
  {
   "cell_type": "markdown",
   "id": "368140ab-3e2c-4049-a5dc-fea1e68ca4ba",
   "metadata": {},
   "source": [
    "# Problema 6"
   ]
  },
  {
   "cell_type": "code",
   "execution_count": null,
   "id": "5548a283-87ae-4335-9430-038d02681734",
   "metadata": {},
   "outputs": [],
   "source": []
  }
 ],
 "metadata": {
  "kernelspec": {
   "display_name": "Python 3 (ipykernel)",
   "language": "python",
   "name": "python3"
  },
  "language_info": {
   "codemirror_mode": {
    "name": "ipython",
    "version": 3
   },
   "file_extension": ".py",
   "mimetype": "text/x-python",
   "name": "python",
   "nbconvert_exporter": "python",
   "pygments_lexer": "ipython3",
   "version": "3.11.5"
  }
 },
 "nbformat": 4,
 "nbformat_minor": 5
}
