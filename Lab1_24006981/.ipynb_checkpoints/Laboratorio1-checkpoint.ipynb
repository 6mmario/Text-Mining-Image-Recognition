{
 "cells": [
  {
   "cell_type": "markdown",
   "id": "a9888025-45e2-4831-a60d-bc5ba9880572",
   "metadata": {},
   "source": [
    "# Problema 1"
   ]
  },
  {
   "cell_type": "code",
   "execution_count": 7,
   "id": "e5729e94-d1b5-43ff-bbc3-0db3d6aae095",
   "metadata": {
    "tags": []
   },
   "outputs": [
    {
     "ename": "NameError",
     "evalue": "name 'img2' is not defined",
     "output_type": "error",
     "traceback": [
      "\u001b[0;31m---------------------------------------------------------------------------\u001b[0m",
      "\u001b[0;31mNameError\u001b[0m                                 Traceback (most recent call last)",
      "Cell \u001b[0;32mIn[7], line 40\u001b[0m\n\u001b[1;32m     38\u001b[0m \u001b[38;5;66;03m# Ejemplo de uso\u001b[39;00m\n\u001b[1;32m     39\u001b[0m imagen_modificada \u001b[38;5;241m=\u001b[39m modificar_imagen(\u001b[38;5;124m'\u001b[39m\u001b[38;5;124mimg/img1.jpeg\u001b[39m\u001b[38;5;124m'\u001b[39m, \u001b[38;5;241m2\u001b[39m)\n\u001b[0;32m---> 40\u001b[0m cv2\u001b[38;5;241m.\u001b[39mimwrite(\u001b[38;5;124mf\u001b[39m\u001b[38;5;124m'\u001b[39m\u001b[38;5;124mimagen_modificada_\u001b[39m\u001b[38;5;132;01m{\u001b[39;00mimg2\u001b[38;5;132;01m}\u001b[39;00m\u001b[38;5;124m.jpg\u001b[39m\u001b[38;5;124m'\u001b[39m, imagen_modificada)\n",
      "\u001b[0;31mNameError\u001b[0m: name 'img2' is not defined"
     ]
    }
   ],
   "source": [
    "import cv2\n",
    "import numpy as np\n",
    "\n",
    "def modificar_imagen(ruta_imagen, color):\n",
    "    # Leer la imagen\n",
    "    imagen = cv2.imread(ruta_imagen)\n",
    "    \n",
    "    # Dividir la imagen en canales Azul, Verde y Rojo\n",
    "    B, G, R = cv2.split(imagen)\n",
    "    \n",
    "    # Crear canales en blanco\n",
    "    blanco = np.zeros_like(B)\n",
    "    \n",
    "    if color == 1:\n",
    "        # Solo el canal Azul activo\n",
    "        imagen_modificada = cv2.merge([B, blanco, blanco])\n",
    "    elif color == 2:\n",
    "        # Solo el canal Verde activo\n",
    "        imagen_modificada = cv2.merge([blanco, G, blanco])\n",
    "    elif color == 3:\n",
    "        # Solo el canal Rojo activo\n",
    "        imagen_modificada = cv2.merge([blanco, blanco, R])\n",
    "    elif color == 10:\n",
    "        # Canales Rojo y Verde activos\n",
    "        imagen_modificada = cv2.merge([blanco, G, R])\n",
    "    elif color == 20:\n",
    "        # Canales Verde y Azul activos\n",
    "        imagen_modificada = cv2.merge([B, G, blanco])\n",
    "    elif color == 30:\n",
    "        # Canales Azul y Rojo activos\n",
    "        imagen_modificada = cv2.merge([B, blanco, R])\n",
    "    else:\n",
    "        # Si el parámetro color no es reconocido, devolver la imagen original\n",
    "        imagen_modificada = imagen\n",
    "    \n",
    "    return imagen_modificada\n",
    "\n",
    "# Ejemplo de uso\n",
    "imagen_modificada = modificar_imagen('img/img1.jpeg', 2)\n",
    "cv2.imwrite('imagen_modificada_img2.jpg', imagen_modificada)\n"
   ]
  }
 ],
 "metadata": {
  "kernelspec": {
   "display_name": "Python 3 (ipykernel)",
   "language": "python",
   "name": "python3"
  },
  "language_info": {
   "codemirror_mode": {
    "name": "ipython",
    "version": 3
   },
   "file_extension": ".py",
   "mimetype": "text/x-python",
   "name": "python",
   "nbconvert_exporter": "python",
   "pygments_lexer": "ipython3",
   "version": "3.11.5"
  }
 },
 "nbformat": 4,
 "nbformat_minor": 5
}
