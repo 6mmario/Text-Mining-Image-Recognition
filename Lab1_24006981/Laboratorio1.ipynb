{
 "cells": [
  {
   "cell_type": "markdown",
   "id": "a9888025-45e2-4831-a60d-bc5ba9880572",
   "metadata": {
    "tags": []
   },
   "source": [
    "# Problema 1"
   ]
  },
  {
   "cell_type": "code",
   "execution_count": 25,
   "id": "e5729e94-d1b5-43ff-bbc3-0db3d6aae095",
   "metadata": {
    "tags": []
   },
   "outputs": [
    {
     "data": {
      "text/plain": [
       "True"
      ]
     },
     "execution_count": 25,
     "metadata": {},
     "output_type": "execute_result"
    }
   ],
   "source": [
    "import cv2\n",
    "import numpy as np\n",
    "\n",
    "def modificar_imagen(ruta_imagen, color):\n",
    "    # Leer la imagen\n",
    "    imagen = cv2.imread(ruta_imagen)\n",
    "    \n",
    "    # Dividir la imagen en canales Azul, Verde y Rojo\n",
    "    B, G, R = cv2.split(imagen)\n",
    "    \n",
    "    # Crear canales en blanco\n",
    "    blanco = np.zeros_like(B)\n",
    "    \n",
    "    if color == 1:\n",
    "        # Solo el canal Azul activo\n",
    "        imagen_modificada = cv2.merge([B, blanco, blanco])\n",
    "    elif color == 2:\n",
    "        # Solo el canal Verde activo\n",
    "        imagen_modificada = cv2.merge([blanco, G, blanco])\n",
    "    elif color == 3:\n",
    "        # Solo el canal Rojo activo\n",
    "        imagen_modificada = cv2.merge([blanco, blanco, R])\n",
    "    elif color == 10:\n",
    "        # Canales Rojo y Verde activos\n",
    "        imagen_modificada = cv2.merge([blanco, G, R])\n",
    "    elif color == 20:\n",
    "        # Canales Verde y Azul activos\n",
    "        imagen_modificada = cv2.merge([B, G, blanco])\n",
    "    elif color == 30:\n",
    "        # Canales Azul y Rojo activos\n",
    "        imagen_modificada = cv2.merge([B, blanco, R])\n",
    "    else:\n",
    "        # Si el parámetro color no es reconocido, devolver la imagen original\n",
    "        imagen_modificada = imagen\n",
    "    \n",
    "    return imagen_modificada\n",
    "\n",
    "# Ejemplo de uso\n",
    "imagen_modificada = modificar_imagen('img/img3.jpeg', 30)\n",
    "cv2.imwrite('imagen_modificada_img30.jpg', imagen_modificada)\n"
   ]
  },
  {
   "cell_type": "markdown",
   "id": "4df8baa1-0bbf-4738-b3e7-59fe9def9182",
   "metadata": {},
   "source": [
    "# Problema 2"
   ]
  },
  {
   "cell_type": "code",
   "execution_count": null,
   "id": "7829b9c9-fe14-45ea-8e36-c62964ab3854",
   "metadata": {},
   "outputs": [],
   "source": [
    "def reconstruir_imagen_color(carpeta, output_path):\n",
    "    # Construir las rutas de los archivos\n",
    "    azul_path = f'{carpeta}/{carpeta}_salida_gray_azul.jpg'\n",
    "    rojo_path = f'{carpeta}/{carpeta}_salida_gray_rojo.jpg'\n",
    "    verde_path = f'{carpeta}/{carpeta}_salida_gray_verde.jpg'\n",
    "    \n",
    "    # Leer las imágenes en escala de grises\n",
    "    azul = cv2.imread(azul_path, cv2.IMREAD_GRAYSCALE)\n",
    "    rojo = cv2.imread(rojo_path, cv2.IMREAD_GRAYSCALE)\n",
    "    verde = cv2.imread(verde_path, cv2.IMREAD_GRAYSCALE)\n",
    "    \n",
    "    # Verificar que las imágenes tienen el mismo tamaño\n",
    "    if azul.shape != rojo.shape or azul.shape != verde.shape:\n",
    "        raise ValueError(\"Las imágenes no tienen el mismo tamaño.\")\n",
    "    \n",
    "    # Combinar las imágenes en una imagen a color\n",
    "    imagen_color = cv2.merge([azul, verde, rojo])\n",
    "    \n",
    "    # Guardar la imagen resultante\n",
    "    cv2.imwrite(output_path, imagen_color)\n",
    "\n",
    "# Ejemplo de uso\n",
    "reconstruir_imagen_color('imagen1', 'imagen1_color.jpg')\n",
    "reconstruir_imagen_color('imagen2', 'imagen2_color.jpg')\n",
    "reconstruir_imagen_color('perro', 'perro1_color.jpg')\n"
   ]
  }
 ],
 "metadata": {
  "kernelspec": {
   "display_name": "Python 3 (ipykernel)",
   "language": "python",
   "name": "python3"
  },
  "language_info": {
   "codemirror_mode": {
    "name": "ipython",
    "version": 3
   },
   "file_extension": ".py",
   "mimetype": "text/x-python",
   "name": "python",
   "nbconvert_exporter": "python",
   "pygments_lexer": "ipython3",
   "version": "3.11.5"
  }
 },
 "nbformat": 4,
 "nbformat_minor": 5
}
