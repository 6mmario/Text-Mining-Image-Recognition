{
 "cells": [
  {
   "cell_type": "markdown",
   "id": "a9888025-45e2-4831-a60d-bc5ba9880572",
   "metadata": {},
   "source": [
    "# Problema 1"
   ]
  },
  {
   "cell_type": "code",
   "execution_count": 25,
   "id": "e5729e94-d1b5-43ff-bbc3-0db3d6aae095",
   "metadata": {
    "tags": []
   },
   "outputs": [
    {
     "data": {
      "text/plain": [
       "True"
      ]
     },
     "execution_count": 25,
     "metadata": {},
     "output_type": "execute_result"
    }
   ],
   "source": [
    "import cv2\n",
    "import numpy as np\n",
    "\n",
    "def modificar_imagen(ruta_imagen, color):\n",
    "    # Leer la imagen\n",
    "    imagen = cv2.imread(ruta_imagen)\n",
    "    \n",
    "    # Dividir la imagen en canales Azul, Verde y Rojo\n",
    "    B, G, R = cv2.split(imagen)\n",
    "    \n",
    "    # Crear canales en blanco\n",
    "    blanco = np.zeros_like(B)\n",
    "    \n",
    "    if color == 1:\n",
    "        # Solo el canal Azul activo\n",
    "        imagen_modificada = cv2.merge([B, blanco, blanco])\n",
    "    elif color == 2:\n",
    "        # Solo el canal Verde activo\n",
    "        imagen_modificada = cv2.merge([blanco, G, blanco])\n",
    "    elif color == 3:\n",
    "        # Solo el canal Rojo activo\n",
    "        imagen_modificada = cv2.merge([blanco, blanco, R])\n",
    "    elif color == 10:\n",
    "        # Canales Rojo y Verde activos\n",
    "        imagen_modificada = cv2.merge([blanco, G, R])\n",
    "    elif color == 20:\n",
    "        # Canales Verde y Azul activos\n",
    "        imagen_modificada = cv2.merge([B, G, blanco])\n",
    "    elif color == 30:\n",
    "        # Canales Azul y Rojo activos\n",
    "        imagen_modificada = cv2.merge([B, blanco, R])\n",
    "    else:\n",
    "        # Si el parámetro color no es reconocido, devolver la imagen original\n",
    "        imagen_modificada = imagen\n",
    "    \n",
    "    return imagen_modificada\n",
    "\n",
    "# Ejemplo de uso\n",
    "imagen_modificada = modificar_imagen('img/img3.jpeg', 30)\n",
    "cv2.imwrite('imagen_modificada_img30.jpg', imagen_modificada)\n"
   ]
  }
 ],
 "metadata": {
  "kernelspec": {
   "display_name": "Python 3 (ipykernel)",
   "language": "python",
   "name": "python3"
  },
  "language_info": {
   "codemirror_mode": {
    "name": "ipython",
    "version": 3
   },
   "file_extension": ".py",
   "mimetype": "text/x-python",
   "name": "python",
   "nbconvert_exporter": "python",
   "pygments_lexer": "ipython3",
   "version": "3.11.5"
  }
 },
 "nbformat": 4,
 "nbformat_minor": 5
}
